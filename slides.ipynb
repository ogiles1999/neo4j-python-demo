{
 "cells": [
  {
   "cell_type": "markdown",
   "id": "120d7a49",
   "metadata": {
    "slideshow": {
     "slide_type": "slide"
    }
   },
   "source": [
    "# Graph databases"
   ]
  },
  {
   "cell_type": "markdown",
   "id": "0a56ca78",
   "metadata": {
    "slideshow": {
     "slide_type": "subslide"
    }
   },
   "source": [
    "# Intro"
   ]
  },
  {
   "cell_type": "markdown",
   "id": "1be1c0ec",
   "metadata": {
    "slideshow": {
     "slide_type": "fragment"
    }
   },
   "source": [
    "<img src=\"graph.png\" width=\"500px\" />"
   ]
  },
  {
   "cell_type": "markdown",
   "id": "9a74c3e2",
   "metadata": {
    "slideshow": {
     "slide_type": "subslide"
    }
   },
   "source": [
    "## Why"
   ]
  },
  {
   "cell_type": "markdown",
   "id": "0cb35659",
   "metadata": {
    "slideshow": {
     "slide_type": "fragment"
    }
   },
   "source": [
    "- Modelling relationships.\n",
    "- Prevent having to overjoin.\n",
    "- Saves overcomputing as beyond inital match less matching required than classic databases.\n",
    "- Bad when you actually want the join and calculation for the entire dataset."
   ]
  },
  {
   "cell_type": "markdown",
   "id": "903c2c04",
   "metadata": {
    "slideshow": {
     "slide_type": "slide"
    }
   },
   "source": [
    "# Graph ML"
   ]
  },
  {
   "cell_type": "markdown",
   "id": "9cfde726",
   "metadata": {
    "slideshow": {
     "slide_type": "subslide"
    }
   },
   "source": [
    "- Fairly new area.\n",
    "- Mostly to do with social and biology use cases.\n",
    "- Predict relationships.\n",
    "- Predict classifications.\n",
    "- Has been used in drug design (https://arxiv.org/abs/2012.05716)."
   ]
  },
  {
   "cell_type": "markdown",
   "id": "a09336c2",
   "metadata": {
    "slideshow": {
     "slide_type": "slide"
    }
   },
   "source": [
    "# Neo4J"
   ]
  },
  {
   "cell_type": "markdown",
   "id": "70deaf8d",
   "metadata": {
    "slideshow": {
     "slide_type": "subslide"
    }
   },
   "source": [
    "- Most widely used graph database.\n",
    "- Custom query language (Cipher).\n",
    "- Built from the ground up as a graph.\n",
    "- Some open source components."
   ]
  },
  {
   "cell_type": "markdown",
   "id": "79a7d242",
   "metadata": {
    "slideshow": {
     "slide_type": "subslide"
    }
   },
   "source": [
    "## Cipher"
   ]
  },
  {
   "cell_type": "markdown",
   "id": "0fa99a6d",
   "metadata": {
    "slideshow": {
     "slide_type": "fragment"
    }
   },
   "source": [
    "https://neo4j.com/docs/cypher-refcard/current/"
   ]
  },
  {
   "cell_type": "markdown",
   "id": "d5473eac",
   "metadata": {
    "slideshow": {
     "slide_type": "fragment"
    }
   },
   "source": [
    "Demo"
   ]
  },
  {
   "cell_type": "markdown",
   "id": "632d82e7",
   "metadata": {
    "slideshow": {
     "slide_type": "subslide"
    }
   },
   "source": [
    "## Python interface"
   ]
  },
  {
   "cell_type": "markdown",
   "id": "11b88b64",
   "metadata": {
    "slideshow": {
     "slide_type": "fragment"
    }
   },
   "source": [
    "https://neo4j.com/developer/python/\n",
    "\n",
    "`pip install neo4j`"
   ]
  },
  {
   "cell_type": "markdown",
   "id": "606e0419",
   "metadata": {
    "slideshow": {
     "slide_type": "fragment"
    }
   },
   "source": [
    "~~~ python\n",
    "from neo4j import GraphDatabase\n",
    "\n",
    "class HelloWorldExample:\n",
    "\n",
    "    def __init__(self, uri, user, password):\n",
    "        self.driver = GraphDatabase.driver(uri, auth=(user, password))\n",
    "\n",
    "    def close(self):\n",
    "        self.driver.close()\n",
    "\n",
    "    def print_greeting(self, message):\n",
    "        with self.driver.session() as session:\n",
    "            greeting = session.write_transaction(self._create_and_return_greeting, message)\n",
    "            print(greeting)\n",
    "\n",
    "    @staticmethod\n",
    "    def _create_and_return_greeting(tx, message):\n",
    "        result = tx.run(\"CREATE (a:Greeting) \"\n",
    "                        \"SET a.message = $message \"\n",
    "                        \"RETURN a.message + ', from node ' + id(a)\", message=message)\n",
    "        return result.single()[0]\n",
    "        \n",
    "if __name__ == \"__main__\":\n",
    "    greeter = HelloWorldExample(\"bolt://localhost:7687\", \"neo4j\", \"password\")\n",
    "    greeter.print_greeting(\"hello, world\")\n",
    "    greeter.close()\n",
    "~~~"
   ]
  },
  {
   "cell_type": "markdown",
   "id": "1c500372",
   "metadata": {
    "slideshow": {
     "slide_type": "slide"
    }
   },
   "source": [
    "# Getting started"
   ]
  },
  {
   "cell_type": "markdown",
   "id": "f4ae532b",
   "metadata": {
    "slideshow": {
     "slide_type": "subslide"
    }
   },
   "source": [
    "## Challenge"
   ]
  },
  {
   "cell_type": "markdown",
   "id": "fe37b3d7",
   "metadata": {
    "slideshow": {
     "slide_type": "fragment"
    }
   },
   "source": [
    "1. Clone the repo `gh repo clone ogiles1999/neo4j-python-demo`.\n",
    "2. Go into the Makefile and change your_password to a password of your choice.\n",
    "3. Run `make run_db`.\n",
    "4. Go to http://localhost:7474/browser/ .\n",
    "5. Connect to the database following the instructions.\n",
    "6. Copy the code from data.cypher to load in the recipes dataset.\n",
    "7. Now the challenge! Try to create a recommendation system which interfaces with python.\n"
   ]
  }
 ],
 "metadata": {
  "celltoolbar": "Slideshow",
  "kernelspec": {
   "display_name": "Python 3 (ipykernel)",
   "language": "python",
   "name": "python3"
  },
  "language_info": {
   "codemirror_mode": {
    "name": "ipython",
    "version": 3
   },
   "file_extension": ".py",
   "mimetype": "text/x-python",
   "name": "python",
   "nbconvert_exporter": "python",
   "pygments_lexer": "ipython3",
   "version": "3.8.12"
  },
  "toc": {
   "base_numbering": 1,
   "nav_menu": {},
   "number_sections": true,
   "sideBar": true,
   "skip_h1_title": false,
   "title_cell": "Table of Contents",
   "title_sidebar": "Contents",
   "toc_cell": false,
   "toc_position": {},
   "toc_section_display": true,
   "toc_window_display": false
  }
 },
 "nbformat": 4,
 "nbformat_minor": 5
}
